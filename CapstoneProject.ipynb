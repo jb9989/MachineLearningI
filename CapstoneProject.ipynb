{
 "cells": [
  {
   "cell_type": "code",
   "execution_count": 2,
   "id": "e22875f2",
   "metadata": {},
   "outputs": [],
   "source": [
    "import pandas as pd\n",
    "import numpy as np\n",
    "import matplotlib.pyplot as plt\n",
    "import seaborn as sns\n",
    "from sklearn.decomposition import PCA\n",
    "from sklearn.metrics import silhouette_score\n",
    "from sklearn.cluster import KMeans\n",
    "\n",
    "import warnings\n",
    "warnings.filterwarnings('ignore')"
   ]
  },
  {
   "cell_type": "code",
   "execution_count": 3,
   "id": "67e19c3a",
   "metadata": {},
   "outputs": [],
   "source": [
    "from sklearn.model_selection import train_test_split, cross_val_score, GridSearchCV\n",
    "\n",
    "# Metrics\n",
    "from sklearn.metrics import classification_report, accuracy_score, confusion_matrix, precision_recall_curve, roc_curve, silhouette_score\n",
    "from sklearn.metrics import plot_confusion_matrix\n",
    "\n",
    "# Classifiers\n",
    "from sklearn.dummy import DummyClassifier\n",
    "from sklearn.tree  import DecisionTreeClassifier\n",
    "from sklearn.neighbors import KNeighborsClassifier\n",
    "from sklearn.svm import SVC\n",
    "from sklearn.ensemble import RandomForestClassifier, ExtraTreesClassifier"
   ]
  },
  {
   "cell_type": "code",
   "execution_count": 4,
   "id": "c204b6a5",
   "metadata": {},
   "outputs": [],
   "source": [
    "#To create a dataframe using a subset of features from original dataset\n",
    "def create_custom_dataframe(df, features, label_column):\n",
    "    columns = features + [label_column]\n",
    "    return df[columns].copy()\n",
    "\n",
    "def split_dataset(X, y, test_size=None, stratify=False):\n",
    "    if stratify:\n",
    "        X_train, X_test, y_train, y_test = train_test_split(X, y, test_size=test_size, random_state=42, shuffle=True, stratify=y)\n",
    "    else:\n",
    "        X_train, X_test, y_train, y_test = train_test_split(X, y, test_size=test_size, random_state=42, shuffle=True)\n",
    "    return (X_train, X_test, y_train, y_test)\n",
    "\n",
    "\n",
    "def display_cross_validation_results(model, X_train, y_train, folds):\n",
    "    results = cross_val_score(model, X_train, y_train, cv=folds, scoring='accuracy')\n",
    "    print(f\"Cross validation results with {folds} folds: {results}\")\n",
    "    \n",
    "\n",
    "def build_classifiers():\n",
    "    return [\n",
    "        (\"RandomForestClassifier\", RandomForestClassifier(n_estimators=500, max_leaf_nodes=16, n_jobs=-1, random_state=27)),\n",
    "        (\"ExtraTreesClassifier\", ExtraTreesClassifier(n_estimators=100, random_state=27)),\n",
    "        (\"KNNClassifier\", KNeighborsClassifier()),\n",
    "        (\"DecisionTreeClassifier\", DecisionTreeClassifier()),\n",
    "        (\"SVC\", SVC(kernel='linear', probability=True))\n",
    "    ]\n",
    "\n",
    "#this function used to build and evalute different models \n",
    "def run_classifiers(X_train, X_test, y_train, y_test):\n",
    "    classifiers = build_classifiers()\n",
    "\n",
    "    for key, model in classifiers:\n",
    "        model.fit(X_train, y_train)\n",
    "        y_predict = model.predict(X_test)\n",
    "        \n",
    "    print(\"Individual Classifiers Score Results\")\n",
    "    print(\"-----------------------------------\")\n",
    "    for key, model in classifiers:\n",
    "        print(f\"{key}: Training Accuracy: {model.score(X_train, y_train)} | Test Accuracy: {model.score(X_test, y_test)}\")\n",
    "    \n",
    "    print(\"\")  \n",
    "    "
   ]
  },
  {
   "cell_type": "code",
   "execution_count": 5,
   "id": "97ee94ba",
   "metadata": {},
   "outputs": [],
   "source": [
    "pd.set_option('display.max_rows', None)"
   ]
  },
  {
   "cell_type": "markdown",
   "id": "180fb094",
   "metadata": {},
   "source": [
    "When I started working on my models, I noticed an error that seemed to relate to checking the integrity of the data and the error said I had strings. I couldn't find it in the head or isna at first, so I opened the spreadsheet and saw there were items that were ?'s. isna does not seem to be interpreted as NaN, and was not showing up as such. I added the na_values = '?' to include them as NaN."
   ]
  },
  {
   "cell_type": "code",
   "execution_count": 6,
   "id": "f0cc91ee",
   "metadata": {},
   "outputs": [
    {
     "data": {
      "text/html": [
       "<div>\n",
       "<style scoped>\n",
       "    .dataframe tbody tr th:only-of-type {\n",
       "        vertical-align: middle;\n",
       "    }\n",
       "\n",
       "    .dataframe tbody tr th {\n",
       "        vertical-align: top;\n",
       "    }\n",
       "\n",
       "    .dataframe thead th {\n",
       "        text-align: right;\n",
       "    }\n",
       "</style>\n",
       "<table border=\"1\" class=\"dataframe\">\n",
       "  <thead>\n",
       "    <tr style=\"text-align: right;\">\n",
       "      <th></th>\n",
       "      <th>sample#</th>\n",
       "      <th>Clump Thickness</th>\n",
       "      <th>Uniformity of Cell Size</th>\n",
       "      <th>Uniformity of Cell Shape</th>\n",
       "      <th>Marginal Adhesion</th>\n",
       "      <th>Single Epithelial Cell Size</th>\n",
       "      <th>Bare Nuclei</th>\n",
       "      <th>Bland Chromatin</th>\n",
       "      <th>Normal Nucleoli</th>\n",
       "      <th>Mitoses</th>\n",
       "      <th>Class</th>\n",
       "    </tr>\n",
       "  </thead>\n",
       "  <tbody>\n",
       "    <tr>\n",
       "      <th>0</th>\n",
       "      <td>1000025</td>\n",
       "      <td>5</td>\n",
       "      <td>1</td>\n",
       "      <td>1</td>\n",
       "      <td>1</td>\n",
       "      <td>2</td>\n",
       "      <td>1.0</td>\n",
       "      <td>3</td>\n",
       "      <td>1</td>\n",
       "      <td>1</td>\n",
       "      <td>2</td>\n",
       "    </tr>\n",
       "    <tr>\n",
       "      <th>1</th>\n",
       "      <td>1002945</td>\n",
       "      <td>5</td>\n",
       "      <td>4</td>\n",
       "      <td>4</td>\n",
       "      <td>5</td>\n",
       "      <td>7</td>\n",
       "      <td>10.0</td>\n",
       "      <td>3</td>\n",
       "      <td>2</td>\n",
       "      <td>1</td>\n",
       "      <td>2</td>\n",
       "    </tr>\n",
       "    <tr>\n",
       "      <th>2</th>\n",
       "      <td>1015425</td>\n",
       "      <td>3</td>\n",
       "      <td>1</td>\n",
       "      <td>1</td>\n",
       "      <td>1</td>\n",
       "      <td>2</td>\n",
       "      <td>2.0</td>\n",
       "      <td>3</td>\n",
       "      <td>1</td>\n",
       "      <td>1</td>\n",
       "      <td>2</td>\n",
       "    </tr>\n",
       "    <tr>\n",
       "      <th>3</th>\n",
       "      <td>1016277</td>\n",
       "      <td>6</td>\n",
       "      <td>8</td>\n",
       "      <td>8</td>\n",
       "      <td>1</td>\n",
       "      <td>3</td>\n",
       "      <td>4.0</td>\n",
       "      <td>3</td>\n",
       "      <td>7</td>\n",
       "      <td>1</td>\n",
       "      <td>2</td>\n",
       "    </tr>\n",
       "    <tr>\n",
       "      <th>4</th>\n",
       "      <td>1017023</td>\n",
       "      <td>4</td>\n",
       "      <td>1</td>\n",
       "      <td>1</td>\n",
       "      <td>3</td>\n",
       "      <td>2</td>\n",
       "      <td>1.0</td>\n",
       "      <td>3</td>\n",
       "      <td>1</td>\n",
       "      <td>1</td>\n",
       "      <td>2</td>\n",
       "    </tr>\n",
       "  </tbody>\n",
       "</table>\n",
       "</div>"
      ],
      "text/plain": [
       "   sample#  Clump Thickness  Uniformity of Cell Size  \\\n",
       "0  1000025                5                        1   \n",
       "1  1002945                5                        4   \n",
       "2  1015425                3                        1   \n",
       "3  1016277                6                        8   \n",
       "4  1017023                4                        1   \n",
       "\n",
       "   Uniformity of Cell Shape  Marginal Adhesion  Single Epithelial Cell Size  \\\n",
       "0                         1                  1                            2   \n",
       "1                         4                  5                            7   \n",
       "2                         1                  1                            2   \n",
       "3                         8                  1                            3   \n",
       "4                         1                  3                            2   \n",
       "\n",
       "   Bare Nuclei  Bland Chromatin  Normal Nucleoli  Mitoses  Class  \n",
       "0          1.0                3                1        1      2  \n",
       "1         10.0                3                2        1      2  \n",
       "2          2.0                3                1        1      2  \n",
       "3          4.0                3                7        1      2  \n",
       "4          1.0                3                1        1      2  "
      ]
     },
     "execution_count": 6,
     "metadata": {},
     "output_type": "execute_result"
    }
   ],
   "source": [
    "df = pd.read_csv(\"breastcancer2.csv\", na_values = '?')\n",
    "df.head()"
   ]
  },
  {
   "cell_type": "code",
   "execution_count": 7,
   "id": "c07a230f",
   "metadata": {},
   "outputs": [
    {
     "name": "stdout",
     "output_type": "stream",
     "text": [
      "<class 'pandas.core.frame.DataFrame'>\n",
      "RangeIndex: 699 entries, 0 to 698\n",
      "Data columns (total 11 columns):\n",
      " #   Column                       Non-Null Count  Dtype  \n",
      "---  ------                       --------------  -----  \n",
      " 0   sample#                      699 non-null    int64  \n",
      " 1   Clump Thickness              699 non-null    int64  \n",
      " 2   Uniformity of Cell Size      699 non-null    int64  \n",
      " 3   Uniformity of Cell Shape     699 non-null    int64  \n",
      " 4   Marginal Adhesion            699 non-null    int64  \n",
      " 5   Single Epithelial Cell Size  699 non-null    int64  \n",
      " 6   Bare Nuclei                  683 non-null    float64\n",
      " 7   Bland Chromatin              699 non-null    int64  \n",
      " 8   Normal Nucleoli              699 non-null    int64  \n",
      " 9   Mitoses                      699 non-null    int64  \n",
      " 10  Class                        699 non-null    int64  \n",
      "dtypes: float64(1), int64(10)\n",
      "memory usage: 60.2 KB\n"
     ]
    }
   ],
   "source": [
    "df.info()"
   ]
  },
  {
   "cell_type": "code",
   "execution_count": 8,
   "id": "5865a036",
   "metadata": {},
   "outputs": [
    {
     "data": {
      "text/plain": [
       "<AxesSubplot:>"
      ]
     },
     "execution_count": 8,
     "metadata": {},
     "output_type": "execute_result"
    },
    {
     "data": {
      "image/png": "[encoded data removed]",
      "text/plain": [
       "<Figure size 720x720 with 2 Axes>"
      ]
     },
     "metadata": {
      "needs_background": "light"
     },
     "output_type": "display_data"
    }
   ],
   "source": [
    "plt.figure(figsize=(10,10))\n",
    "sns.heatmap(df.corr(), annot=True)"
   ]
  },
  {
   "cell_type": "markdown",
   "id": "3b89cf1f",
   "metadata": {},
   "source": [
    "Description of the problem:\n",
    "\n",
    "Based on attributes of a sample taken of a tumor can we tell, using machine learning, if the tumor is benign or malignant?\n",
    "\n",
    "Description of the dataset:\n",
    "\n",
    "There are 699 rows and 11 features\n",
    "\n",
    "   #  Attribute                     Domain\n",
    "   -- -----------------------------------------\n",
    "   1. Sample code number            id number\n",
    "   2. Clump Thickness               1 - 10\n",
    "   3. Uniformity of Cell Size       1 - 10\n",
    "   4. Uniformity of Cell Shape      1 - 10\n",
    "   5. Marginal Adhesion             1 - 10\n",
    "   6. Single Epithelial Cell Size   1 - 10\n",
    "   7. Bare Nuclei                   1 - 10\n",
    "   8. Bland Chromatin               1 - 10\n",
    "   9. Normal Nucleoli               1 - 10\n",
    "  10. Mitoses                       1 - 10\n",
    "  11. Class:                        (2 for benign, 4 for malignant)\n",
    "  \n",
    "  I read more about these features at: https://www.mdpi.com/2075-4418/10/3/136/htm and https://rstudio-pubs-static.s3.amazonaws.com/491489_b86f191488ab4ed0a37e7a95c839a8f4.html\n",
    "  \n",
    "  #### Features Description:\n",
    "\n",
    "In each of these features \n",
    "- Sample code number: id number for each sample\n",
    "\n",
    "- Clump Thickness : grouping of cells in a multilayer, benign cells tend to be grouped in mono-layers, while cancerous cells are often grouped in multi-layer\n",
    "\n",
    "- Uniformity of Cell Size: how uniform the cell sizes are i.e. all of the same size or a wide variety - this can indicate grouping of cancer cells in multilayer (cancer cells tend to vary in size)\n",
    "\n",
    "- Uniformity of Cell Shape: how uniform the cell shapes are i.e. all of the same shape or a wide variety (cancer cells tend to vary in shape)\n",
    "\n",
    "- Marginal Adhesion: adhesion level -normal cells tend to stick together, cancer cells tend to lose this ability. Loss of adhesion appears to be a sign of malignancy.\n",
    "\n",
    "- Single Epithelial Cell Size: relates to uniformity, if this size becomes large it may be a malignant cell\n",
    "\n",
    "- Bare Nuclei: without cytoplasm coating, found in benign tumors\n",
    "\n",
    "- Bland Chromatin: describes a uniform texture of the nucleus seen in the benign cell. In cancer cells the chromatin tends to be coarser\n",
    "\n",
    "- Normal Nucleoli: Nucleoli are small structures seen in the nucleus. Generally very small in benign cells, in cancer cells they become more prominent and sometimes there are more of them\n",
    "\n",
    "- Mitoses: process in cell division by which the nucleus divides, this is an estimate of the number of mitosis that has taken place. The larger the value the greater the chance of malignancy.\n",
    "\n",
    "- Class: this will end up as our label, 2 for benign i.e. not harmful, malignant i.e. harmful\n",
    "\n",
    "Supervised or unsupervised:\n",
    "\n",
    "This will be supervised as we have the labels, but we could take the labels off and see what happens in unsupervised to check.\n",
    "\n",
    "Regression or classification:\n",
    "\n",
    "Classification as we will be looking to diagnose/classify based on the data and we are predicting discrete labels as opposed to continuous data.\n"
   ]
  },
  {
   "cell_type": "code",
   "execution_count": 9,
   "id": "ac55e360",
   "metadata": {},
   "outputs": [
    {
     "data": {
      "text/plain": [
       "(699, 11)"
      ]
     },
     "execution_count": 9,
     "metadata": {},
     "output_type": "execute_result"
    }
   ],
   "source": [
    "df.shape"
   ]
  },
  {
   "cell_type": "code",
   "execution_count": 10,
   "id": "cb1ab011",
   "metadata": {
    "scrolled": true
   },
   "outputs": [
    {
     "data": {
      "text/plain": [
       "sample#                         0\n",
       "Clump Thickness                 0\n",
       "Uniformity of Cell Size         0\n",
       "Uniformity of Cell Shape        0\n",
       "Marginal Adhesion               0\n",
       "Single Epithelial Cell Size     0\n",
       "Bare Nuclei                    16\n",
       "Bland Chromatin                 0\n",
       "Normal Nucleoli                 0\n",
       "Mitoses                         0\n",
       "Class                           0\n",
       "dtype: int64"
      ]
     },
     "execution_count": 10,
     "metadata": {},
     "output_type": "execute_result"
    }
   ],
   "source": [
    "#Find out missing values for each column\n",
    "df.isna().sum()"
   ]
  },
  {
   "cell_type": "markdown",
   "id": "f872f9a4",
   "metadata": {},
   "source": [
    "I believe as this only represents 16 items it will be more efficient to drop the values as opposed to filling with the mean/mediam/etc."
   ]
  },
  {
   "cell_type": "code",
   "execution_count": 11,
   "id": "55655300",
   "metadata": {},
   "outputs": [],
   "source": [
    "#Removing Null values\n",
    "data=df.dropna()"
   ]
  },
  {
   "cell_type": "code",
   "execution_count": 12,
   "id": "4eb84949",
   "metadata": {},
   "outputs": [
    {
     "data": {
      "text/plain": [
       "sample#                        0\n",
       "Clump Thickness                0\n",
       "Uniformity of Cell Size        0\n",
       "Uniformity of Cell Shape       0\n",
       "Marginal Adhesion              0\n",
       "Single Epithelial Cell Size    0\n",
       "Bare Nuclei                    0\n",
       "Bland Chromatin                0\n",
       "Normal Nucleoli                0\n",
       "Mitoses                        0\n",
       "Class                          0\n",
       "dtype: int64"
      ]
     },
     "execution_count": 12,
     "metadata": {},
     "output_type": "execute_result"
    }
   ],
   "source": [
    "#Find out missing values for each column\n",
    "data.isna().sum()"
   ]
  },
  {
   "cell_type": "code",
   "execution_count": 13,
   "id": "8e427576",
   "metadata": {},
   "outputs": [
    {
     "data": {
      "text/plain": [
       "2    444\n",
       "4    239\n",
       "Name: Class, dtype: int64"
      ]
     },
     "execution_count": 13,
     "metadata": {},
     "output_type": "execute_result"
    }
   ],
   "source": [
    "data['Class'].value_counts()"
   ]
  },
  {
   "cell_type": "code",
   "execution_count": 14,
   "id": "7974e17c",
   "metadata": {
    "scrolled": true
   },
   "outputs": [
    {
     "data": {
      "text/html": [
       "<div>\n",
       "<style scoped>\n",
       "    .dataframe tbody tr th:only-of-type {\n",
       "        vertical-align: middle;\n",
       "    }\n",
       "\n",
       "    .dataframe tbody tr th {\n",
       "        vertical-align: top;\n",
       "    }\n",
       "\n",
       "    .dataframe thead th {\n",
       "        text-align: right;\n",
       "    }\n",
       "</style>\n",
       "<table border=\"1\" class=\"dataframe\">\n",
       "  <thead>\n",
       "    <tr style=\"text-align: right;\">\n",
       "      <th></th>\n",
       "      <th>sample#</th>\n",
       "      <th>Clump Thickness</th>\n",
       "      <th>Uniformity of Cell Size</th>\n",
       "      <th>Uniformity of Cell Shape</th>\n",
       "      <th>Marginal Adhesion</th>\n",
       "      <th>Single Epithelial Cell Size</th>\n",
       "      <th>Bare Nuclei</th>\n",
       "      <th>Bland Chromatin</th>\n",
       "      <th>Normal Nucleoli</th>\n",
       "      <th>Mitoses</th>\n",
       "      <th>Class</th>\n",
       "    </tr>\n",
       "  </thead>\n",
       "  <tbody>\n",
       "    <tr>\n",
       "      <th>count</th>\n",
       "      <td>6.830000e+02</td>\n",
       "      <td>683.000000</td>\n",
       "      <td>683.000000</td>\n",
       "      <td>683.000000</td>\n",
       "      <td>683.000000</td>\n",
       "      <td>683.000000</td>\n",
       "      <td>683.000000</td>\n",
       "      <td>683.000000</td>\n",
       "      <td>683.000000</td>\n",
       "      <td>683.000000</td>\n",
       "      <td>683.000000</td>\n",
       "    </tr>\n",
       "    <tr>\n",
       "      <th>mean</th>\n",
       "      <td>1.076720e+06</td>\n",
       "      <td>4.442167</td>\n",
       "      <td>3.150805</td>\n",
       "      <td>3.215227</td>\n",
       "      <td>2.830161</td>\n",
       "      <td>3.234261</td>\n",
       "      <td>3.544656</td>\n",
       "      <td>3.445095</td>\n",
       "      <td>2.869693</td>\n",
       "      <td>1.603221</td>\n",
       "      <td>2.699854</td>\n",
       "    </tr>\n",
       "    <tr>\n",
       "      <th>std</th>\n",
       "      <td>6.206440e+05</td>\n",
       "      <td>2.820761</td>\n",
       "      <td>3.065145</td>\n",
       "      <td>2.988581</td>\n",
       "      <td>2.864562</td>\n",
       "      <td>2.223085</td>\n",
       "      <td>3.643857</td>\n",
       "      <td>2.449697</td>\n",
       "      <td>3.052666</td>\n",
       "      <td>1.732674</td>\n",
       "      <td>0.954592</td>\n",
       "    </tr>\n",
       "    <tr>\n",
       "      <th>min</th>\n",
       "      <td>6.337500e+04</td>\n",
       "      <td>1.000000</td>\n",
       "      <td>1.000000</td>\n",
       "      <td>1.000000</td>\n",
       "      <td>1.000000</td>\n",
       "      <td>1.000000</td>\n",
       "      <td>1.000000</td>\n",
       "      <td>1.000000</td>\n",
       "      <td>1.000000</td>\n",
       "      <td>1.000000</td>\n",
       "      <td>2.000000</td>\n",
       "    </tr>\n",
       "    <tr>\n",
       "      <th>25%</th>\n",
       "      <td>8.776170e+05</td>\n",
       "      <td>2.000000</td>\n",
       "      <td>1.000000</td>\n",
       "      <td>1.000000</td>\n",
       "      <td>1.000000</td>\n",
       "      <td>2.000000</td>\n",
       "      <td>1.000000</td>\n",
       "      <td>2.000000</td>\n",
       "      <td>1.000000</td>\n",
       "      <td>1.000000</td>\n",
       "      <td>2.000000</td>\n",
       "    </tr>\n",
       "    <tr>\n",
       "      <th>50%</th>\n",
       "      <td>1.171795e+06</td>\n",
       "      <td>4.000000</td>\n",
       "      <td>1.000000</td>\n",
       "      <td>1.000000</td>\n",
       "      <td>1.000000</td>\n",
       "      <td>2.000000</td>\n",
       "      <td>1.000000</td>\n",
       "      <td>3.000000</td>\n",
       "      <td>1.000000</td>\n",
       "      <td>1.000000</td>\n",
       "      <td>2.000000</td>\n",
       "    </tr>\n",
       "    <tr>\n",
       "      <th>75%</th>\n",
       "      <td>1.238705e+06</td>\n",
       "      <td>6.000000</td>\n",
       "      <td>5.000000</td>\n",
       "      <td>5.000000</td>\n",
       "      <td>4.000000</td>\n",
       "      <td>4.000000</td>\n",
       "      <td>6.000000</td>\n",
       "      <td>5.000000</td>\n",
       "      <td>4.000000</td>\n",
       "      <td>1.000000</td>\n",
       "      <td>4.000000</td>\n",
       "    </tr>\n",
       "    <tr>\n",
       "      <th>max</th>\n",
       "      <td>1.345435e+07</td>\n",
       "      <td>10.000000</td>\n",
       "      <td>10.000000</td>\n",
       "      <td>10.000000</td>\n",
       "      <td>10.000000</td>\n",
       "      <td>10.000000</td>\n",
       "      <td>10.000000</td>\n",
       "      <td>10.000000</td>\n",
       "      <td>10.000000</td>\n",
       "      <td>10.000000</td>\n",
       "      <td>4.000000</td>\n",
       "    </tr>\n",
       "  </tbody>\n",
       "</table>\n",
       "</div>"
      ],
      "text/plain": [
       "            sample#  Clump Thickness  Uniformity of Cell Size  \\\n",
       "count  6.830000e+02       683.000000               683.000000   \n",
       "mean   1.076720e+06         4.442167                 3.150805   \n",
       "std    6.206440e+05         2.820761                 3.065145   \n",
       "min    6.337500e+04         1.000000                 1.000000   \n",
       "25%    8.776170e+05         2.000000                 1.000000   \n",
       "50%    1.171795e+06         4.000000                 1.000000   \n",
       "75%    1.238705e+06         6.000000                 5.000000   \n",
       "max    1.345435e+07        10.000000                10.000000   \n",
       "\n",
       "       Uniformity of Cell Shape  Marginal Adhesion  \\\n",
       "count                683.000000         683.000000   \n",
       "mean                   3.215227           2.830161   \n",
       "std                    2.988581           2.864562   \n",
       "min                    1.000000           1.000000   \n",
       "25%                    1.000000           1.000000   \n",
       "50%                    1.000000           1.000000   \n",
       "75%                    5.000000           4.000000   \n",
       "max                   10.000000          10.000000   \n",
       "\n",
       "       Single Epithelial Cell Size  Bare Nuclei  Bland Chromatin  \\\n",
       "count                   683.000000   683.000000       683.000000   \n",
       "mean                      3.234261     3.544656         3.445095   \n",
       "std                       2.223085     3.643857         2.449697   \n",
       "min                       1.000000     1.000000         1.000000   \n",
       "25%                       2.000000     1.000000         2.000000   \n",
       "50%                       2.000000     1.000000         3.000000   \n",
       "75%                       4.000000     6.000000         5.000000   \n",
       "max                      10.000000    10.000000        10.000000   \n",
       "\n",
       "       Normal Nucleoli     Mitoses       Class  \n",
       "count       683.000000  683.000000  683.000000  \n",
       "mean          2.869693    1.603221    2.699854  \n",
       "std           3.052666    1.732674    0.954592  \n",
       "min           1.000000    1.000000    2.000000  \n",
       "25%           1.000000    1.000000    2.000000  \n",
       "50%           1.000000    1.000000    2.000000  \n",
       "75%           4.000000    1.000000    4.000000  \n",
       "max          10.000000   10.000000    4.000000  "
      ]
     },
     "execution_count": 14,
     "metadata": {},
     "output_type": "execute_result"
    }
   ],
   "source": [
    "data.describe()"
   ]
  },
  {
   "cell_type": "markdown",
   "id": "32cb0cb6",
   "metadata": {},
   "source": [
    "The data seems very clean (no na values) and the describe shows us what we would expect - as the features are only values 1-10, they are relatively tight together. I do not believe it will help us to do work on outliers at this point in time, as the data does not seem to have a wide range. If I begin to do work on the data and see potential errors or things that may not make sense, I will re-evaluate this decision."
   ]
  },
  {
   "cell_type": "code",
   "execution_count": 15,
   "id": "a046b89a",
   "metadata": {},
   "outputs": [
    {
     "data": {
      "text/plain": [
       "<AxesSubplot:ylabel='Frequency'>"
      ]
     },
     "execution_count": 15,
     "metadata": {},
     "output_type": "execute_result"
    },
    {
     "data": {
      "image/png": "[encoded data removed]",
      "text/plain": [
       "<Figure size 432x288 with 1 Axes>"
      ]
     },
     "metadata": {
      "needs_background": "light"
     },
     "output_type": "display_data"
    }
   ],
   "source": [
    "data[\"Class\"].plot(kind = 'hist')"
   ]
  },
  {
   "cell_type": "markdown",
   "id": "65f57dfc",
   "metadata": {},
   "source": [
    "It looks like our intended label has many more cases of 4 compared to 2, where 4 represents malignant and 2 represents benign."
   ]
  },
  {
   "cell_type": "markdown",
   "id": "f37b40db",
   "metadata": {},
   "source": [
    "I am curious what the plots may look like for some of the highest correlated features when compared to our eventual label, from the heatmap some of the highest correlated features seem to be: uniformity of cell size at .82, uniformity of cell shape at .82, and clump thickness at .72\n"
   ]
  },
  {
   "cell_type": "code",
   "execution_count": 16,
   "id": "69d47817",
   "metadata": {},
   "outputs": [
    {
     "data": {
      "image/png": "[encoded data removed]",
      "text/plain": [
       "<Figure size 720x720 with 20 Axes>"
      ]
     },
     "metadata": {
      "needs_background": "light"
     },
     "output_type": "display_data"
    }
   ],
   "source": [
    "# Using Seaborn\n",
    "sns.pairplot(data[['Uniformity of Cell Size', 'Uniformity of Cell Shape', 'Clump Thickness', 'Class']]) # Taking Subset\n",
    "plt.show()"
   ]
  },
  {
   "cell_type": "markdown",
   "id": "2e6d6b50",
   "metadata": {},
   "source": [
    "Hm from this it seems there might be a correlation, but it may not be as cut and dry as we were hoping (i.e. there are values of 4's or malignant for every value of each of these highly correlated features, though it is interesting that there are no 2's or benign labels with any of these features at a 10."
   ]
  },
  {
   "cell_type": "markdown",
   "id": "0beaab57",
   "metadata": {},
   "source": [
    "When making the features and labels subsets I will leave out the sample number as this does not seem like it will be relevant to our process"
   ]
  },
  {
   "cell_type": "code",
   "execution_count": 17,
   "id": "0c72c2ad",
   "metadata": {},
   "outputs": [],
   "source": [
    "label = 'Class'\n",
    "features = ['Clump Thickness', 'Uniformity of Cell Size', 'Uniformity of Cell Shape', 'Marginal Adhesion', \n",
    "            'Single Epithelial Cell Size', 'Bare Nuclei', 'Bland Chromatin', 'Normal Nucleoli', 'Mitoses']\n"
   ]
  },
  {
   "cell_type": "markdown",
   "id": "3c93da54",
   "metadata": {},
   "source": [
    "Separating dataframe winto features (X) and labels (y)"
   ]
  },
  {
   "cell_type": "code",
   "execution_count": 18,
   "id": "3767647c",
   "metadata": {},
   "outputs": [],
   "source": [
    "X=data[features].copy()\n",
    "y=data[label].copy()"
   ]
  },
  {
   "cell_type": "code",
   "execution_count": 19,
   "id": "2bca091f",
   "metadata": {},
   "outputs": [
    {
     "name": "stdout",
     "output_type": "stream",
     "text": [
      "Features and labels Shape\n",
      "-----------------\n",
      "X shape: (683, 9)\n",
      "y shape: (683,)\n"
     ]
    }
   ],
   "source": [
    "print(\"Features and labels Shape\")\n",
    "print(\"-----------------\")\n",
    "print(f\"X shape: {X.shape}\")\n",
    "print(f\"y shape: {y.shape}\")"
   ]
  },
  {
   "cell_type": "code",
   "execution_count": 20,
   "id": "d0b773f5",
   "metadata": {},
   "outputs": [
    {
     "name": "stdout",
     "output_type": "stream",
     "text": [
      "FEATURES\n"
     ]
    },
    {
     "data": {
      "text/html": [
       "<div>\n",
       "<style scoped>\n",
       "    .dataframe tbody tr th:only-of-type {\n",
       "        vertical-align: middle;\n",
       "    }\n",
       "\n",
       "    .dataframe tbody tr th {\n",
       "        vertical-align: top;\n",
       "    }\n",
       "\n",
       "    .dataframe thead th {\n",
       "        text-align: right;\n",
       "    }\n",
       "</style>\n",
       "<table border=\"1\" class=\"dataframe\">\n",
       "  <thead>\n",
       "    <tr style=\"text-align: right;\">\n",
       "      <th></th>\n",
       "      <th>Clump Thickness</th>\n",
       "      <th>Uniformity of Cell Size</th>\n",
       "      <th>Uniformity of Cell Shape</th>\n",
       "      <th>Marginal Adhesion</th>\n",
       "      <th>Single Epithelial Cell Size</th>\n",
       "      <th>Bare Nuclei</th>\n",
       "      <th>Bland Chromatin</th>\n",
       "      <th>Normal Nucleoli</th>\n",
       "      <th>Mitoses</th>\n",
       "    </tr>\n",
       "  </thead>\n",
       "  <tbody>\n",
       "    <tr>\n",
       "      <th>0</th>\n",
       "      <td>5</td>\n",
       "      <td>1</td>\n",
       "      <td>1</td>\n",
       "      <td>1</td>\n",
       "      <td>2</td>\n",
       "      <td>1.0</td>\n",
       "      <td>3</td>\n",
       "      <td>1</td>\n",
       "      <td>1</td>\n",
       "    </tr>\n",
       "    <tr>\n",
       "      <th>1</th>\n",
       "      <td>5</td>\n",
       "      <td>4</td>\n",
       "      <td>4</td>\n",
       "      <td>5</td>\n",
       "      <td>7</td>\n",
       "      <td>10.0</td>\n",
       "      <td>3</td>\n",
       "      <td>2</td>\n",
       "      <td>1</td>\n",
       "    </tr>\n",
       "    <tr>\n",
       "      <th>2</th>\n",
       "      <td>3</td>\n",
       "      <td>1</td>\n",
       "      <td>1</td>\n",
       "      <td>1</td>\n",
       "      <td>2</td>\n",
       "      <td>2.0</td>\n",
       "      <td>3</td>\n",
       "      <td>1</td>\n",
       "      <td>1</td>\n",
       "    </tr>\n",
       "    <tr>\n",
       "      <th>3</th>\n",
       "      <td>6</td>\n",
       "      <td>8</td>\n",
       "      <td>8</td>\n",
       "      <td>1</td>\n",
       "      <td>3</td>\n",
       "      <td>4.0</td>\n",
       "      <td>3</td>\n",
       "      <td>7</td>\n",
       "      <td>1</td>\n",
       "    </tr>\n",
       "    <tr>\n",
       "      <th>4</th>\n",
       "      <td>4</td>\n",
       "      <td>1</td>\n",
       "      <td>1</td>\n",
       "      <td>3</td>\n",
       "      <td>2</td>\n",
       "      <td>1.0</td>\n",
       "      <td>3</td>\n",
       "      <td>1</td>\n",
       "      <td>1</td>\n",
       "    </tr>\n",
       "  </tbody>\n",
       "</table>\n",
       "</div>"
      ],
      "text/plain": [
       "   Clump Thickness  Uniformity of Cell Size  Uniformity of Cell Shape  \\\n",
       "0                5                        1                         1   \n",
       "1                5                        4                         4   \n",
       "2                3                        1                         1   \n",
       "3                6                        8                         8   \n",
       "4                4                        1                         1   \n",
       "\n",
       "   Marginal Adhesion  Single Epithelial Cell Size  Bare Nuclei  \\\n",
       "0                  1                            2          1.0   \n",
       "1                  5                            7         10.0   \n",
       "2                  1                            2          2.0   \n",
       "3                  1                            3          4.0   \n",
       "4                  3                            2          1.0   \n",
       "\n",
       "   Bland Chromatin  Normal Nucleoli  Mitoses  \n",
       "0                3                1        1  \n",
       "1                3                2        1  \n",
       "2                3                1        1  \n",
       "3                3                7        1  \n",
       "4                3                1        1  "
      ]
     },
     "execution_count": 20,
     "metadata": {},
     "output_type": "execute_result"
    }
   ],
   "source": [
    "print(\"FEATURES\")\n",
    "X.head()"
   ]
  },
  {
   "cell_type": "code",
   "execution_count": 21,
   "id": "3823432e",
   "metadata": {},
   "outputs": [
    {
     "name": "stdout",
     "output_type": "stream",
     "text": [
      "LABELS\n"
     ]
    },
    {
     "data": {
      "text/plain": [
       "0    2\n",
       "1    2\n",
       "2    2\n",
       "3    2\n",
       "4    2\n",
       "Name: Class, dtype: int64"
      ]
     },
     "execution_count": 21,
     "metadata": {},
     "output_type": "execute_result"
    }
   ],
   "source": [
    "print(\"LABELS\")\n",
    "y.head()"
   ]
  },
  {
   "cell_type": "markdown",
   "id": "5c840e46",
   "metadata": {},
   "source": [
    "We split the features and label up so we can start to work on them a bit more. Here we are going to split them into a training and test set, and start looking at supvervised algorithms and what kind of accuracy they present individually.\n",
    "\n",
    "We will split the data into 80% train and 20% test"
   ]
  },
  {
   "cell_type": "code",
   "execution_count": 22,
   "id": "1672267a",
   "metadata": {},
   "outputs": [
    {
     "name": "stdout",
     "output_type": "stream",
     "text": [
      "Dataset Split Shapes\n",
      "-----------------\n",
      "X_train shape: (546, 9)\n",
      "y_train_val shape: (546,)\n",
      "X_test shape: (137, 9)\n",
      "y_test shape: (137,)\n",
      "\n"
     ]
    }
   ],
   "source": [
    "X_train, X_test, y_train, y_test = split_dataset(X, y, test_size=0.2)\n",
    "   \n",
    "print(\"Dataset Split Shapes\")\n",
    "print(\"-----------------\")\n",
    "print(f\"X_train shape: {X_train.shape}\")\n",
    "print(f\"y_train_val shape: {y_train.shape}\")\n",
    "print(f\"X_test shape: {X_test.shape}\")\n",
    "print(f\"y_test shape: {y_test.shape}\")\n",
    "print(\"\")\n"
   ]
  },
  {
   "cell_type": "code",
   "execution_count": 23,
   "id": "08ea3248",
   "metadata": {},
   "outputs": [
    {
     "name": "stdout",
     "output_type": "stream",
     "text": [
      "-----------------------------------------\n",
      "Cross validation results with 3 folds: [0.67032967 0.67032967 0.66483516]\n",
      "Training set accuracy: 0.6684981684981685, Test set accuracy: 0.5766423357664233\n"
     ]
    }
   ],
   "source": [
    "# Train model\n",
    "model = DummyClassifier(strategy=\"most_frequent\") # setup algorithm model\n",
    "model.fit(X_train, y_train)\n",
    "\n",
    "# print performance measure\n",
    "print(f\"-----------------------------------------\")\n",
    "display_cross_validation_results(model, X_train, y_train, 3)\n",
    "print(f\"Training set accuracy: {model.score(X_train, y_train)}, Test set accuracy: {model.score(X_test, y_test)}\")\n",
    "\n"
   ]
  },
  {
   "cell_type": "code",
   "execution_count": 24,
   "id": "f110e194",
   "metadata": {},
   "outputs": [
    {
     "name": "stdout",
     "output_type": "stream",
     "text": [
      "Individual Classifiers Score Results\n",
      "-----------------------------------\n",
      "RandomForestClassifier: Training Accuracy: 0.9908424908424909 | Test Accuracy: 0.9562043795620438\n",
      "ExtraTreesClassifier: Training Accuracy: 1.0 | Test Accuracy: 0.9635036496350365\n",
      "KNNClassifier: Training Accuracy: 0.9743589743589743 | Test Accuracy: 0.948905109489051\n",
      "DecisionTreeClassifier: Training Accuracy: 1.0 | Test Accuracy: 0.9343065693430657\n",
      "SVC: Training Accuracy: 0.9743589743589743 | Test Accuracy: 0.9635036496350365\n",
      "\n"
     ]
    }
   ],
   "source": [
    "run_classifiers(X_train, X_test, y_train, y_test)"
   ]
  },
  {
   "cell_type": "markdown",
   "id": "0599a949",
   "metadata": {},
   "source": [
    "The test accuracies here seem pretty good!\n",
    "\n",
    "The top individual performer seems to be a tie between extratrees and SVC. \n",
    "\n",
    "ExtraTrees generally works many decision trees, then samples each decision tree. The split value is randomly selected, and the trees are very diverse. For a question such as can we tell if a sample is benign or malignant based on the features it has, a decision tree does intuitively seem to make sense. There seem to be a number of characteristics that differentiate a benign and malignant cell/sample, so if we use decision trees to say is the size abnormal? How is it grouped? Has more than normal mitosis taken place? We can answer these questions, and if enough of them are yes it would make sense this would eventually lead to the classification of benign of malignant.\n",
    "\n",
    "SVC works to separate / classify based on linear classifiers. This will help to separate out the classes. Given our classification between benign and malignant as the goal, and as the features seem to have a high correlation it makes sense SVC works very well as a classifier on this data.\n",
    "\n",
    "RandomForest, KNN, and DecisionTree by no means did poorly (the lowest was .934). \n",
    "RandomForest is not far behind ExtraTrees, which would make sense as RandomForest trains many decision trees based on random subsets of the features, and averages out their predictions - but randomforest tries to choose the optimum split while extratrees chooses randomly. Plus Randomforest uses bootstrapping while ExtraTrees does not. Bootstrapping involves sampling subsets with replacements and could select a data point more than once for a resampled dataset. There may have been some random decisions where the extratrees came out on top or perhaps the data lends itself more to extratrees without the bootstrapping.\n",
    "\n",
    "KNN - Here we are using a technique of k nearest neighbors in a supervised learning model. This algorithm works to find clusters of data that are located nearest a number of clusters. By separating these clusters and finding each datapoint's \"nearest neighbor\" to classify each datapoint, the algorithm can help to identify how this data should be classified."
   ]
  },
  {
   "cell_type": "markdown",
   "id": "95e8a227",
   "metadata": {},
   "source": [
    "Now let's try to use some soft/hard voting and see if we can improve on the individual performer results."
   ]
  },
  {
   "cell_type": "code",
   "execution_count": 25,
   "id": "33ce9130",
   "metadata": {},
   "outputs": [],
   "source": [
    "def build_ensemble_classifiers():\n",
    "    return [\n",
    "        (\"RandomForestClassifier\", RandomForestClassifier(n_estimators=500, max_leaf_nodes=16, n_jobs=-1, random_state=27)),\n",
    "        (\"ExtraTreesClassifier\", ExtraTreesClassifier(n_estimators=100, random_state=27)),\n",
    "        (\"KNNClassifier\", KNeighborsClassifier()),\n",
    "        (\"DecisionTreeClassifier\", DecisionTreeClassifier()),\n",
    "        (\"SVC\", SVC(kernel='linear', probability=True))\n",
    "    ]"
   ]
  },
  {
   "cell_type": "code",
   "execution_count": 26,
   "id": "0bdb9e76",
   "metadata": {},
   "outputs": [],
   "source": [
    "def run_ensemble_classifier(X_train, X_test, y_train, y_test, include_soft):\n",
    "    \n",
    "    classifiers = build_ensemble_classifiers()\n",
    "\n",
    "    voting_clf = VotingClassifier(classifiers)\n",
    "    voting_clf.fit(X_train, y_train)\n",
    "    y_predict = voting_clf.predict(X_test)\n",
    "    \n",
    "    print(\"Ensemble Classifier Score Results\")\n",
    "    print(\"---------------------------------\")\n",
    "    \n",
    "    if include_soft:\n",
    "        voting_clf.voting = \"soft\"\n",
    "        print(f\"Soft VotingClassifier: {voting_clf.score(X_test, y_test)}\") \n",
    "\n",
    "    voting_clf.voting = \"hard\"\n",
    "    print(f\"Hard VotingClassifier: {voting_clf.score(X_test, y_test)}\") \n",
    "    \n",
    "    print(\"\")    \n",
    "    \n",
    "    return voting_clf\n",
    " "
   ]
  },
  {
   "cell_type": "code",
   "execution_count": 27,
   "id": "78b74a25",
   "metadata": {},
   "outputs": [],
   "source": [
    "from sklearn.ensemble import VotingClassifier, AdaBoostClassifier, BaggingClassifier"
   ]
  },
  {
   "cell_type": "code",
   "execution_count": 28,
   "id": "aec20592",
   "metadata": {},
   "outputs": [
    {
     "name": "stdout",
     "output_type": "stream",
     "text": [
      "Ensemble Classifier Score Results\n",
      "---------------------------------\n",
      "Soft VotingClassifier: 0.9781021897810219\n",
      "Hard VotingClassifier: 0.9635036496350365\n",
      "\n"
     ]
    },
    {
     "data": {
      "text/plain": [
       "VotingClassifier(estimators=[('RandomForestClassifier',\n",
       "                              RandomForestClassifier(max_leaf_nodes=16,\n",
       "                                                     n_estimators=500,\n",
       "                                                     n_jobs=-1,\n",
       "                                                     random_state=27)),\n",
       "                             ('ExtraTreesClassifier',\n",
       "                              ExtraTreesClassifier(random_state=27)),\n",
       "                             ('KNNClassifier', KNeighborsClassifier()),\n",
       "                             ('DecisionTreeClassifier',\n",
       "                              DecisionTreeClassifier()),\n",
       "                             ('SVC', SVC(kernel='linear', probability=True))])"
      ]
     },
     "execution_count": 28,
     "metadata": {},
     "output_type": "execute_result"
    }
   ],
   "source": [
    "run_ensemble_classifier(X_train, X_test, y_train, y_test, True)"
   ]
  },
  {
   "cell_type": "markdown",
   "id": "303ee514",
   "metadata": {},
   "source": [
    "It seems the soft voting .9781 beats our top individual performer above (ExtraTrees or SVC's .9635). Let's see if we can take out the two weakest performers to improve our results (KNN and DecisionTree). (Hard voting picks the prediction with the highest number of votes compared to soft voting which combines probabilities of each prediction in each model and picks the prediction wtih the highest total probability. "
   ]
  },
  {
   "cell_type": "code",
   "execution_count": 29,
   "id": "4b58d906",
   "metadata": {},
   "outputs": [],
   "source": [
    "def build_ensemble_classifiers():\n",
    "    return [\n",
    "        (\"RandomForestClassifier\", RandomForestClassifier(n_estimators=500, max_leaf_nodes=16, n_jobs=-1, random_state=27)),\n",
    "        (\"ExtraTreesClassifier\", ExtraTreesClassifier(n_estimators=100, random_state=27)),\n",
    "        (\"SVC\", SVC(kernel='linear', probability=True))\n",
    "    ]"
   ]
  },
  {
   "cell_type": "code",
   "execution_count": 30,
   "id": "3705be64",
   "metadata": {},
   "outputs": [
    {
     "name": "stdout",
     "output_type": "stream",
     "text": [
      "Ensemble Classifier Score Results\n",
      "---------------------------------\n",
      "Soft VotingClassifier: 0.9635036496350365\n",
      "Hard VotingClassifier: 0.9635036496350365\n",
      "\n"
     ]
    },
    {
     "data": {
      "text/plain": [
       "VotingClassifier(estimators=[('RandomForestClassifier',\n",
       "                              RandomForestClassifier(max_leaf_nodes=16,\n",
       "                                                     n_estimators=500,\n",
       "                                                     n_jobs=-1,\n",
       "                                                     random_state=27)),\n",
       "                             ('ExtraTreesClassifier',\n",
       "                              ExtraTreesClassifier(random_state=27)),\n",
       "                             ('SVC', SVC(kernel='linear', probability=True))])"
      ]
     },
     "execution_count": 30,
     "metadata": {},
     "output_type": "execute_result"
    }
   ],
   "source": [
    "run_ensemble_classifier(X_train, X_test, y_train, y_test, True)"
   ]
  },
  {
   "cell_type": "markdown",
   "id": "a9b02f19",
   "metadata": {},
   "source": [
    "It does not seem so! Perhaps some of the probabilities/votes presented from these two \"weaker\" models actually are helping the predictions and are useful in combining to improve the overall performance. Hard voting is usually done by aggregating the predictions of each classifier, and then predicting the class that gets the most votes i.e. a majority voting type of classifier. Soft voting combines the probabilities of each prediction and picks the prediction with the highest total probability. "
   ]
  },
  {
   "cell_type": "markdown",
   "id": "ab970fb9",
   "metadata": {},
   "source": [
    "Drawing conclusions from our earlier voting models, it seems soft voting with a .9781 is our best potential model and with this high of an accuracy it does seem we are able to determine, based on attributes of a sample taken of a tumor, if the tumor is benign or malignant."
   ]
  },
  {
   "cell_type": "markdown",
   "id": "84b7acec",
   "metadata": {},
   "source": [
    "Attempting unsupervised learning now. Making df_copy with just the features i.e. no label. "
   ]
  },
  {
   "cell_type": "code",
   "execution_count": 31,
   "id": "9803f8f9",
   "metadata": {},
   "outputs": [
    {
     "data": {
      "text/html": [
       "<div>\n",
       "<style scoped>\n",
       "    .dataframe tbody tr th:only-of-type {\n",
       "        vertical-align: middle;\n",
       "    }\n",
       "\n",
       "    .dataframe tbody tr th {\n",
       "        vertical-align: top;\n",
       "    }\n",
       "\n",
       "    .dataframe thead th {\n",
       "        text-align: right;\n",
       "    }\n",
       "</style>\n",
       "<table border=\"1\" class=\"dataframe\">\n",
       "  <thead>\n",
       "    <tr style=\"text-align: right;\">\n",
       "      <th></th>\n",
       "      <th>Clump Thickness</th>\n",
       "      <th>Uniformity of Cell Size</th>\n",
       "      <th>Uniformity of Cell Shape</th>\n",
       "      <th>Marginal Adhesion</th>\n",
       "      <th>Single Epithelial Cell Size</th>\n",
       "      <th>Bare Nuclei</th>\n",
       "      <th>Bland Chromatin</th>\n",
       "      <th>Normal Nucleoli</th>\n",
       "      <th>Mitoses</th>\n",
       "    </tr>\n",
       "  </thead>\n",
       "  <tbody>\n",
       "    <tr>\n",
       "      <th>0</th>\n",
       "      <td>5</td>\n",
       "      <td>1</td>\n",
       "      <td>1</td>\n",
       "      <td>1</td>\n",
       "      <td>2</td>\n",
       "      <td>1.0</td>\n",
       "      <td>3</td>\n",
       "      <td>1</td>\n",
       "      <td>1</td>\n",
       "    </tr>\n",
       "    <tr>\n",
       "      <th>1</th>\n",
       "      <td>5</td>\n",
       "      <td>4</td>\n",
       "      <td>4</td>\n",
       "      <td>5</td>\n",
       "      <td>7</td>\n",
       "      <td>10.0</td>\n",
       "      <td>3</td>\n",
       "      <td>2</td>\n",
       "      <td>1</td>\n",
       "    </tr>\n",
       "    <tr>\n",
       "      <th>2</th>\n",
       "      <td>3</td>\n",
       "      <td>1</td>\n",
       "      <td>1</td>\n",
       "      <td>1</td>\n",
       "      <td>2</td>\n",
       "      <td>2.0</td>\n",
       "      <td>3</td>\n",
       "      <td>1</td>\n",
       "      <td>1</td>\n",
       "    </tr>\n",
       "    <tr>\n",
       "      <th>3</th>\n",
       "      <td>6</td>\n",
       "      <td>8</td>\n",
       "      <td>8</td>\n",
       "      <td>1</td>\n",
       "      <td>3</td>\n",
       "      <td>4.0</td>\n",
       "      <td>3</td>\n",
       "      <td>7</td>\n",
       "      <td>1</td>\n",
       "    </tr>\n",
       "    <tr>\n",
       "      <th>4</th>\n",
       "      <td>4</td>\n",
       "      <td>1</td>\n",
       "      <td>1</td>\n",
       "      <td>3</td>\n",
       "      <td>2</td>\n",
       "      <td>1.0</td>\n",
       "      <td>3</td>\n",
       "      <td>1</td>\n",
       "      <td>1</td>\n",
       "    </tr>\n",
       "  </tbody>\n",
       "</table>\n",
       "</div>"
      ],
      "text/plain": [
       "   Clump Thickness  Uniformity of Cell Size  Uniformity of Cell Shape  \\\n",
       "0                5                        1                         1   \n",
       "1                5                        4                         4   \n",
       "2                3                        1                         1   \n",
       "3                6                        8                         8   \n",
       "4                4                        1                         1   \n",
       "\n",
       "   Marginal Adhesion  Single Epithelial Cell Size  Bare Nuclei  \\\n",
       "0                  1                            2          1.0   \n",
       "1                  5                            7         10.0   \n",
       "2                  1                            2          2.0   \n",
       "3                  1                            3          4.0   \n",
       "4                  3                            2          1.0   \n",
       "\n",
       "   Bland Chromatin  Normal Nucleoli  Mitoses  \n",
       "0                3                1        1  \n",
       "1                3                2        1  \n",
       "2                3                1        1  \n",
       "3                3                7        1  \n",
       "4                3                1        1  "
      ]
     },
     "execution_count": 31,
     "metadata": {},
     "output_type": "execute_result"
    }
   ],
   "source": [
    "df_copy = data[features].copy()\n",
    "\n",
    "df_copy.head()\n"
   ]
  },
  {
   "cell_type": "code",
   "execution_count": 32,
   "id": "9be9f802",
   "metadata": {},
   "outputs": [
    {
     "data": {
      "text/plain": [
       "(683, 9)"
      ]
     },
     "execution_count": 32,
     "metadata": {},
     "output_type": "execute_result"
    }
   ],
   "source": [
    "df_copy.shape"
   ]
  },
  {
   "cell_type": "markdown",
   "id": "feab8392",
   "metadata": {},
   "source": [
    "determining the variance of features"
   ]
  },
  {
   "cell_type": "code",
   "execution_count": 33,
   "id": "9d04dba9",
   "metadata": {},
   "outputs": [
    {
     "data": {
      "text/plain": [
       "array([0.69050756, 0.07195066, 0.06055921, 0.04442012, 0.03900513,\n",
       "       0.03443899, 0.02529478, 0.02246508, 0.01135845])"
      ]
     },
     "execution_count": 33,
     "metadata": {},
     "output_type": "execute_result"
    }
   ],
   "source": [
    "pca = PCA().fit(df_copy)\n",
    "\n",
    "pca.explained_variance_ratio_"
   ]
  },
  {
   "cell_type": "markdown",
   "id": "68366063",
   "metadata": {},
   "source": [
    "expressed as a cumulative sum"
   ]
  },
  {
   "cell_type": "code",
   "execution_count": 34,
   "id": "02618c5f",
   "metadata": {},
   "outputs": [
    {
     "data": {
      "text/plain": [
       "array([0.69050756, 0.76245823, 0.82301744, 0.86743756, 0.9064427 ,\n",
       "       0.94088169, 0.96617646, 0.98864155, 1.        ])"
      ]
     },
     "execution_count": 34,
     "metadata": {},
     "output_type": "execute_result"
    }
   ],
   "source": [
    "cumsum = np.cumsum(pca.explained_variance_ratio_)\n",
    "cumsum"
   ]
  },
  {
   "cell_type": "markdown",
   "id": "9f937984",
   "metadata": {},
   "source": [
    "we can also utilize visualization"
   ]
  },
  {
   "cell_type": "code",
   "execution_count": 35,
   "id": "be1f8d30",
   "metadata": {
    "scrolled": true
   },
   "outputs": [
    {
     "data": {
      "image/png": "[encoded data removed]",
      "text/plain": [
       "<Figure size 432x288 with 1 Axes>"
      ]
     },
     "metadata": {
      "needs_background": "light"
     },
     "output_type": "display_data"
    }
   ],
   "source": [
    "plt.plot(cumsum)\n",
    "plt.xlabel('Number of Features')\n",
    "plt.ylabel('Cumulative Explained Variance');"
   ]
  },
  {
   "cell_type": "markdown",
   "id": "2f8d7578",
   "metadata": {},
   "source": [
    "although more features may be useful, bringing this down to 2 dimensions will help to better visualize the relationships."
   ]
  },
  {
   "cell_type": "code",
   "execution_count": 36,
   "id": "54870117",
   "metadata": {},
   "outputs": [
    {
     "data": {
      "text/html": [
       "<div>\n",
       "<style scoped>\n",
       "    .dataframe tbody tr th:only-of-type {\n",
       "        vertical-align: middle;\n",
       "    }\n",
       "\n",
       "    .dataframe tbody tr th {\n",
       "        vertical-align: top;\n",
       "    }\n",
       "\n",
       "    .dataframe thead th {\n",
       "        text-align: right;\n",
       "    }\n",
       "</style>\n",
       "<table border=\"1\" class=\"dataframe\">\n",
       "  <thead>\n",
       "    <tr style=\"text-align: right;\">\n",
       "      <th></th>\n",
       "      <th>0</th>\n",
       "      <th>1</th>\n",
       "    </tr>\n",
       "  </thead>\n",
       "  <tbody>\n",
       "    <tr>\n",
       "      <th>0</th>\n",
       "      <td>-4.482102</td>\n",
       "      <td>0.024023</td>\n",
       "    </tr>\n",
       "    <tr>\n",
       "      <th>1</th>\n",
       "      <td>4.819651</td>\n",
       "      <td>-4.739734</td>\n",
       "    </tr>\n",
       "    <tr>\n",
       "      <th>2</th>\n",
       "      <td>-4.632960</td>\n",
       "      <td>-0.609533</td>\n",
       "    </tr>\n",
       "    <tr>\n",
       "      <th>3</th>\n",
       "      <td>5.096535</td>\n",
       "      <td>3.386599</td>\n",
       "    </tr>\n",
       "    <tr>\n",
       "      <th>4</th>\n",
       "      <td>-4.116433</td>\n",
       "      <td>-0.098865</td>\n",
       "    </tr>\n",
       "    <tr>\n",
       "      <th>5</th>\n",
       "      <td>15.008990</td>\n",
       "      <td>-0.490217</td>\n",
       "    </tr>\n",
       "    <tr>\n",
       "      <th>6</th>\n",
       "      <td>-1.685524</td>\n",
       "      <td>-6.707077</td>\n",
       "    </tr>\n",
       "    <tr>\n",
       "      <th>7</th>\n",
       "      <td>-4.979551</td>\n",
       "      <td>0.409244</td>\n",
       "    </tr>\n",
       "    <tr>\n",
       "      <th>8</th>\n",
       "      <td>-5.458160</td>\n",
       "      <td>0.979859</td>\n",
       "    </tr>\n",
       "    <tr>\n",
       "      <th>9</th>\n",
       "      <td>-4.666945</td>\n",
       "      <td>0.318979</td>\n",
       "    </tr>\n",
       "  </tbody>\n",
       "</table>\n",
       "</div>"
      ],
      "text/plain": [
       "           0         1\n",
       "0  -4.482102  0.024023\n",
       "1   4.819651 -4.739734\n",
       "2  -4.632960 -0.609533\n",
       "3   5.096535  3.386599\n",
       "4  -4.116433 -0.098865\n",
       "5  15.008990 -0.490217\n",
       "6  -1.685524 -6.707077\n",
       "7  -4.979551  0.409244\n",
       "8  -5.458160  0.979859\n",
       "9  -4.666945  0.318979"
      ]
     },
     "execution_count": 36,
     "metadata": {},
     "output_type": "execute_result"
    }
   ],
   "source": [
    "pca = PCA(n_components=2).fit(df_copy)\n",
    "pca_2d = pca.transform(df_copy)\n",
    "df_2d = pd.DataFrame(pca_2d)\n",
    "\n",
    "df_2d.head(10)"
   ]
  },
  {
   "cell_type": "code",
   "execution_count": 37,
   "id": "413c1541",
   "metadata": {
    "scrolled": true
   },
   "outputs": [
    {
     "data": {
      "image/png": "[encoded data removed]",
      "text/plain": [
       "<Figure size 432x288 with 1 Axes>"
      ]
     },
     "metadata": {
      "needs_background": "light"
     },
     "output_type": "display_data"
    }
   ],
   "source": [
    "fig, ax = plt.subplots()\n",
    "ax.scatter(df_2d[0], df_2d[1])\n",
    "\n",
    "plt.show()"
   ]
  },
  {
   "cell_type": "markdown",
   "id": "edea94ac",
   "metadata": {},
   "source": [
    "Doing 2 clusters as even without knowing the labels necessarily, we would have to think the main goal is going to be benign or malignant i.e. two classification possibilities"
   ]
  },
  {
   "cell_type": "code",
   "execution_count": 107,
   "id": "027efc83",
   "metadata": {
    "scrolled": true
   },
   "outputs": [
    {
     "data": {
      "text/plain": [
       "array([0, 1, 0, 1, 0, 1, 0, 0, 0, 0, 0, 0, 0, 0, 1, 0, 0, 0, 1, 0, 1, 1,\n",
       "       0, 0, 0, 0, 0, 0, 0, 0, 0, 1, 0, 0, 0, 1, 0, 1, 1, 1, 1, 1, 1, 0,\n",
       "       1, 0, 0, 1, 0, 0, 1, 1, 1, 1, 1, 0, 1, 0, 1, 0, 1, 0, 0, 0, 0, 1,\n",
       "       1, 0, 0, 1, 0, 1, 1, 0, 0, 0, 0, 0, 0, 0, 0, 0, 1, 1, 1, 1, 0, 0,\n",
       "       0, 0, 0, 0, 0, 0, 0, 0, 1, 1, 1, 0, 0, 0, 1, 0, 1, 1, 0, 1, 0, 1,\n",
       "       1, 1, 0, 0, 0, 1, 0, 0, 0, 0, 1, 1, 1, 0, 1, 0, 1, 0, 0, 0, 1, 0,\n",
       "       0, 0, 0, 0, 0, 0, 0, 1, 0, 0, 1, 0, 0, 1, 0, 1, 1, 0, 0, 1, 0, 0,\n",
       "       1, 1, 0, 0, 0, 0, 1, 1, 0, 0, 0, 0, 0, 1, 1, 1, 0, 1, 0, 1, 0, 0,\n",
       "       0, 1, 1, 0, 1, 1, 1, 0, 1, 1, 0, 0, 0, 0, 1, 0, 0, 0, 1, 1, 0, 0,\n",
       "       0, 1, 1, 0, 0, 0, 1, 1, 0, 1, 1, 1, 0, 0, 1, 0, 0, 1, 0, 1, 1, 0,\n",
       "       1, 1, 0, 1, 1, 1, 0, 1, 0, 1, 1, 1, 1, 0, 0, 0, 0, 0, 0, 1, 1, 0,\n",
       "       0, 1, 1, 1, 1, 1, 0, 0, 0, 1, 1, 1, 1, 1, 1, 0, 1, 1, 1, 0, 1, 0,\n",
       "       1, 0, 0, 0, 0, 0, 1, 0, 0, 1, 1, 1, 1, 1, 0, 1, 1, 0, 0, 1, 1, 1,\n",
       "       0, 1, 1, 0, 1, 0, 1, 1, 0, 0, 1, 0, 0, 0, 1, 0, 0, 1, 1, 0, 1, 1,\n",
       "       0, 1, 0, 0, 1, 0, 1, 1, 1, 0, 0, 1, 1, 0, 1, 0, 0, 1, 1, 0, 0, 0,\n",
       "       1, 0, 0, 0, 0, 1, 0, 0, 1, 1, 0, 0, 0, 1, 1, 1, 1, 1, 0, 0, 0, 0,\n",
       "       1, 1, 0, 0, 0, 0, 0, 0, 0, 0, 0, 0, 0, 0, 0, 1, 0, 0, 0, 0, 1, 0,\n",
       "       0, 0, 0, 1, 0, 0, 0, 0, 0, 0, 0, 0, 1, 0, 0, 0, 0, 0, 0, 0, 0, 0,\n",
       "       0, 1, 0, 1, 0, 1, 0, 0, 0, 0, 1, 0, 0, 0, 1, 0, 1, 0, 0, 0, 0, 0,\n",
       "       0, 1, 1, 1, 0, 0, 0, 1, 0, 0, 0, 0, 0, 0, 0, 0, 1, 0, 0, 0, 1, 0,\n",
       "       0, 1, 1, 0, 0, 0, 0, 0, 0, 0, 1, 1, 1, 0, 0, 0, 0, 0, 0, 0, 0, 0,\n",
       "       0, 0, 1, 0, 0, 1, 1, 0, 0, 0, 1, 1, 0, 0, 1, 0, 1, 0, 0, 0, 0, 0,\n",
       "       0, 0, 0, 0, 0, 0, 0, 1, 0, 0, 0, 0, 0, 0, 0, 1, 1, 0, 0, 0, 1, 0,\n",
       "       0, 1, 1, 0, 0, 0, 0, 0, 0, 1, 0, 0, 0, 0, 0, 0, 0, 0, 0, 0, 0, 0,\n",
       "       0, 0, 0, 1, 0, 0, 1, 0, 0, 0, 0, 0, 0, 0, 0, 0, 0, 0, 0, 0, 0, 0,\n",
       "       1, 0, 0, 1, 1, 1, 1, 0, 0, 1, 0, 0, 0, 0, 0, 0, 1, 1, 0, 0, 0, 1,\n",
       "       0, 1, 0, 1, 1, 1, 0, 1, 0, 0, 0, 0, 0, 0, 0, 0, 1, 1, 1, 0, 0, 1,\n",
       "       0, 1, 1, 1, 0, 0, 0, 0, 0, 0, 0, 0, 0, 0, 0, 0, 1, 0, 0, 0, 0, 0,\n",
       "       0, 1, 0, 0, 1, 0, 0, 0, 0, 0, 0, 0, 0, 0, 0, 0, 1, 0, 0, 0, 0, 0,\n",
       "       0, 0, 0, 0, 1, 0, 0, 0, 0, 0, 0, 0, 0, 0, 1, 1, 1, 0, 0, 0, 0, 0,\n",
       "       0, 0, 0, 0, 1, 1, 0, 0, 0, 0, 0, 0, 0, 0, 0, 1, 0, 0, 0, 0, 1, 1,\n",
       "       1])"
      ]
     },
     "execution_count": 107,
     "metadata": {},
     "output_type": "execute_result"
    }
   ],
   "source": [
    "kmeans = KMeans(n_clusters=2)\n",
    "y_pred  = kmeans.fit_predict(df_copy)\n",
    "y_pred"
   ]
  },
  {
   "cell_type": "markdown",
   "id": "373215b2",
   "metadata": {},
   "source": [
    "Appending the predicted labels back to the dataset, let's take a peek"
   ]
  },
  {
   "cell_type": "code",
   "execution_count": 89,
   "id": "a1c59510",
   "metadata": {},
   "outputs": [
    {
     "data": {
      "text/html": [
       "<div>\n",
       "<style scoped>\n",
       "    .dataframe tbody tr th:only-of-type {\n",
       "        vertical-align: middle;\n",
       "    }\n",
       "\n",
       "    .dataframe tbody tr th {\n",
       "        vertical-align: top;\n",
       "    }\n",
       "\n",
       "    .dataframe thead th {\n",
       "        text-align: right;\n",
       "    }\n",
       "</style>\n",
       "<table border=\"1\" class=\"dataframe\">\n",
       "  <thead>\n",
       "    <tr style=\"text-align: right;\">\n",
       "      <th></th>\n",
       "      <th>Clump Thickness</th>\n",
       "      <th>Uniformity of Cell Size</th>\n",
       "      <th>Uniformity of Cell Shape</th>\n",
       "      <th>Marginal Adhesion</th>\n",
       "      <th>Single Epithelial Cell Size</th>\n",
       "      <th>Bare Nuclei</th>\n",
       "      <th>Bland Chromatin</th>\n",
       "      <th>Normal Nucleoli</th>\n",
       "      <th>Mitoses</th>\n",
       "      <th>Cluster Label</th>\n",
       "    </tr>\n",
       "  </thead>\n",
       "  <tbody>\n",
       "    <tr>\n",
       "      <th>63</th>\n",
       "      <td>6</td>\n",
       "      <td>3</td>\n",
       "      <td>4</td>\n",
       "      <td>1</td>\n",
       "      <td>5</td>\n",
       "      <td>2.0</td>\n",
       "      <td>3</td>\n",
       "      <td>9</td>\n",
       "      <td>1</td>\n",
       "      <td>0</td>\n",
       "    </tr>\n",
       "    <tr>\n",
       "      <th>234</th>\n",
       "      <td>3</td>\n",
       "      <td>3</td>\n",
       "      <td>2</td>\n",
       "      <td>1</td>\n",
       "      <td>3</td>\n",
       "      <td>1.0</td>\n",
       "      <td>3</td>\n",
       "      <td>6</td>\n",
       "      <td>1</td>\n",
       "      <td>0</td>\n",
       "    </tr>\n",
       "    <tr>\n",
       "      <th>43</th>\n",
       "      <td>5</td>\n",
       "      <td>6</td>\n",
       "      <td>5</td>\n",
       "      <td>6</td>\n",
       "      <td>10</td>\n",
       "      <td>1.0</td>\n",
       "      <td>3</td>\n",
       "      <td>1</td>\n",
       "      <td>1</td>\n",
       "      <td>0</td>\n",
       "    </tr>\n",
       "    <tr>\n",
       "      <th>288</th>\n",
       "      <td>6</td>\n",
       "      <td>1</td>\n",
       "      <td>3</td>\n",
       "      <td>1</td>\n",
       "      <td>4</td>\n",
       "      <td>5.0</td>\n",
       "      <td>5</td>\n",
       "      <td>10</td>\n",
       "      <td>1</td>\n",
       "      <td>0</td>\n",
       "    </tr>\n",
       "    <tr>\n",
       "      <th>148</th>\n",
       "      <td>3</td>\n",
       "      <td>1</td>\n",
       "      <td>1</td>\n",
       "      <td>3</td>\n",
       "      <td>8</td>\n",
       "      <td>1.0</td>\n",
       "      <td>5</td>\n",
       "      <td>8</td>\n",
       "      <td>1</td>\n",
       "      <td>0</td>\n",
       "    </tr>\n",
       "  </tbody>\n",
       "</table>\n",
       "</div>"
      ],
      "text/plain": [
       "     Clump Thickness  Uniformity of Cell Size  Uniformity of Cell Shape  \\\n",
       "63                 6                        3                         4   \n",
       "234                3                        3                         2   \n",
       "43                 5                        6                         5   \n",
       "288                6                        1                         3   \n",
       "148                3                        1                         1   \n",
       "\n",
       "     Marginal Adhesion  Single Epithelial Cell Size  Bare Nuclei  \\\n",
       "63                   1                            5          2.0   \n",
       "234                  1                            3          1.0   \n",
       "43                   6                           10          1.0   \n",
       "288                  1                            4          5.0   \n",
       "148                  3                            8          1.0   \n",
       "\n",
       "     Bland Chromatin  Normal Nucleoli  Mitoses  Cluster Label  \n",
       "63                 3                9        1              0  \n",
       "234                3                6        1              0  \n",
       "43                 3                1        1              0  \n",
       "288                5               10        1              0  \n",
       "148                5                8        1              0  "
      ]
     },
     "execution_count": 89,
     "metadata": {},
     "output_type": "execute_result"
    }
   ],
   "source": [
    "full_copy = df_copy.copy()\n",
    "full_copy[\"Cluster Label\"] = y_pred\n",
    "full_copy = full_copy.sort_values(by=['Cluster Label'])\n",
    "\n",
    "full_copy.head()"
   ]
  },
  {
   "cell_type": "markdown",
   "id": "b8655041",
   "metadata": {},
   "source": [
    "Again, I would be hard pressed to say we should use more than 2 clusters, but let's just take a look."
   ]
  },
  {
   "cell_type": "code",
   "execution_count": 102,
   "id": "316c3e5c",
   "metadata": {},
   "outputs": [
    {
     "name": "stdout",
     "output_type": "stream",
     "text": [
      "For n_clusters = 2, silhouette score is 0.5967981179111456)\n",
      "For n_clusters = 3, silhouette score is 0.5256774849851862)\n",
      "For n_clusters = 4, silhouette score is 0.5348319035829242)\n",
      "For n_clusters = 5, silhouette score is 0.2609547397060147)\n",
      "For n_clusters = 6, silhouette score is 0.2541782135016473)\n",
      "For n_clusters = 7, silhouette score is 0.2508030368809195)\n",
      "For n_clusters = 8, silhouette score is 0.2519464184857933)\n",
      "For n_clusters = 9, silhouette score is 0.2545421310146639)\n",
      "For n_clusters = 10, silhouette score is 0.2569395827474422)\n",
      "For n_clusters = 11, silhouette score is 0.2545487055943905)\n",
      "For n_clusters = 12, silhouette score is 0.2564671187938571)\n",
      "For n_clusters = 13, silhouette score is 0.25571274347665546)\n",
      "For n_clusters = 14, silhouette score is 0.25342329295022187)\n",
      "For n_clusters = 15, silhouette score is 0.2595748593655223)\n",
      "For n_clusters = 16, silhouette score is 0.2007858888676558)\n",
      "For n_clusters = 17, silhouette score is 0.2689281311798134)\n",
      "For n_clusters = 18, silhouette score is 0.2586548673827688)\n",
      "For n_clusters = 19, silhouette score is 0.19839397951593093)\n"
     ]
    }
   ],
   "source": [
    "range_n_clusters = list (range(2,20))\n",
    "\n",
    "for n_clusters in range_n_clusters:\n",
    "    clusterer = KMeans(n_clusters=n_clusters)\n",
    "    preds = clusterer.fit_predict(df_copy)\n",
    "    centers = clusterer.cluster_centers_\n",
    "\n",
    "    score = silhouette_score(df_copy, preds)\n",
    "    print(\"For n_clusters = {}, silhouette score is {})\".format(n_clusters, score))"
   ]
  },
  {
   "cell_type": "markdown",
   "id": "c8063bd4",
   "metadata": {},
   "source": [
    "Number of clusters dropping after 2 would make sense as we have 2 labels in our original dataframe/two possibilties"
   ]
  },
  {
   "cell_type": "code",
   "execution_count": 114,
   "id": "14199e00",
   "metadata": {},
   "outputs": [
    {
     "data": {
      "text/html": [
       "<div>\n",
       "<style scoped>\n",
       "    .dataframe tbody tr th:only-of-type {\n",
       "        vertical-align: middle;\n",
       "    }\n",
       "\n",
       "    .dataframe tbody tr th {\n",
       "        vertical-align: top;\n",
       "    }\n",
       "\n",
       "    .dataframe thead th {\n",
       "        text-align: right;\n",
       "    }\n",
       "</style>\n",
       "<table border=\"1\" class=\"dataframe\">\n",
       "  <thead>\n",
       "    <tr style=\"text-align: right;\">\n",
       "      <th></th>\n",
       "      <th>Uniformity of Cell Size</th>\n",
       "      <th>Bare Nuclei</th>\n",
       "      <th>Cluster Label</th>\n",
       "    </tr>\n",
       "  </thead>\n",
       "  <tbody>\n",
       "    <tr>\n",
       "      <th>0</th>\n",
       "      <td>1</td>\n",
       "      <td>1.0</td>\n",
       "      <td>0</td>\n",
       "    </tr>\n",
       "    <tr>\n",
       "      <th>443</th>\n",
       "      <td>1</td>\n",
       "      <td>2.0</td>\n",
       "      <td>0</td>\n",
       "    </tr>\n",
       "    <tr>\n",
       "      <th>444</th>\n",
       "      <td>1</td>\n",
       "      <td>1.0</td>\n",
       "      <td>0</td>\n",
       "    </tr>\n",
       "    <tr>\n",
       "      <th>445</th>\n",
       "      <td>1</td>\n",
       "      <td>1.0</td>\n",
       "      <td>0</td>\n",
       "    </tr>\n",
       "    <tr>\n",
       "      <th>446</th>\n",
       "      <td>1</td>\n",
       "      <td>1.0</td>\n",
       "      <td>0</td>\n",
       "    </tr>\n",
       "  </tbody>\n",
       "</table>\n",
       "</div>"
      ],
      "text/plain": [
       "     Uniformity of Cell Size  Bare Nuclei  Cluster Label\n",
       "0                          1          1.0              0\n",
       "443                        1          2.0              0\n",
       "444                        1          1.0              0\n",
       "445                        1          1.0              0\n",
       "446                        1          1.0              0"
      ]
     },
     "execution_count": 114,
     "metadata": {},
     "output_type": "execute_result"
    }
   ],
   "source": [
    "subset_df = full_copy[[\"Uniformity of Cell Size\", \"Bare Nuclei\", \"Cluster Label\"]]\n",
    "                  \n",
    "subset_df.head()                "
   ]
  },
  {
   "cell_type": "code",
   "execution_count": 115,
   "id": "4b64458a",
   "metadata": {},
   "outputs": [
    {
     "data": {
      "image/png": "[encoded data removed]",
      "text/plain": [
       "<Figure size 432x288 with 1 Axes>"
      ]
     },
     "metadata": {
      "needs_background": "light"
     },
     "output_type": "display_data"
    }
   ],
   "source": [
    "#Plotting countplot of clusters\n",
    "pal = [\"#4D1979\", \"#FA4616\", \"#C1D82F\", \"#00B2A9\"]\n",
    "pl = sns.countplot(x=full_copy[\"Cluster Label\"], palette= pal)\n",
    "pl.set_title(\"Distribution Of The Clusters\")\n",
    "plt.show()"
   ]
  },
  {
   "cell_type": "code",
   "execution_count": 116,
   "id": "f95b62cf",
   "metadata": {},
   "outputs": [
    {
     "data": {
      "text/plain": [
       "0    453\n",
       "1    230\n",
       "Name: Cluster Label, dtype: int64"
      ]
     },
     "execution_count": 116,
     "metadata": {},
     "output_type": "execute_result"
    }
   ],
   "source": [
    "full_copy['Cluster Label'].value_counts()"
   ]
  },
  {
   "cell_type": "markdown",
   "id": "0df2547d",
   "metadata": {},
   "source": [
    "Wow! It does seem that the clusters identified the benign/malignant very well. For reference in the original set minus some n/a deletions we had:\n",
    "2    444 (benign)\n",
    "4    239 (malignant)\n",
    "\n",
    "\n"
   ]
  },
  {
   "cell_type": "markdown",
   "id": "36f078cf",
   "metadata": {},
   "source": [
    "Using the unsupervised learning we still see the data seems to lead to the two clusters we would expect, and reinforces the idea that these features are able to help us correctly identify whether a tumor is benign or malignant"
   ]
  }
 ],
 "metadata": {
  "kernelspec": {
   "display_name": "Python 3 (ipykernel)",
   "language": "python",
   "name": "python3"
  },
  "language_info": {
   "codemirror_mode": {
    "name": "ipython",
    "version": 3
   },
   "file_extension": ".py",
   "mimetype": "text/x-python",
   "name": "python",
   "nbconvert_exporter": "python",
   "pygments_lexer": "ipython3",
   "version": "3.9.12"
  }
 },
 "nbformat": 4,
 "nbformat_minor": 5
}
